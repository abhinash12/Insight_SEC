{
 "cells": [
  {
   "cell_type": "code",
   "execution_count": 44,
   "metadata": {},
   "outputs": [],
   "source": [
    "import csv\n",
    "from collections import OrderedDict\n",
    "import datetime"
   ]
  },
  {
   "cell_type": "code",
   "execution_count": 78,
   "metadata": {},
   "outputs": [
    {
     "name": "stdout",
     "output_type": "stream",
     "text": [
      "OrderedDict([('101.81.133.jja', ['2017-06-30 00:00:00', datetime.datetime(2017, 6, 30, 0, 0), datetime.datetime(2017, 6, 30, 0, 0), 1]), ('107.23.85.jfd', ['2017-06-30 00:00:00', datetime.datetime(2017, 6, 30, 0, 0), datetime.datetime(2017, 6, 30, 0, 0), 1]), ('108.91.91.hbc', ['2017-06-30 00:00:01', datetime.datetime(2017, 6, 30, 0, 0, 1), datetime.datetime(2017, 6, 30, 0, 0, 1), 1]), ('106.120.173.jie', ['2017-06-30 00:00:02', datetime.datetime(2017, 6, 30, 0, 0, 2), datetime.datetime(2017, 6, 30, 0, 0, 2), 1]), ('107.178.195.aag', ['2017-06-30 00:00:02', datetime.datetime(2017, 6, 30, 0, 0, 2), datetime.datetime(2017, 6, 30, 0, 0, 2), 1])])\n",
      "{'101.81.133.jja': [datetime.datetime(2017, 6, 30, 0, 0)], '107.23.85.jfd': [datetime.datetime(2017, 6, 30, 0, 0)], '108.91.91.hbc': [datetime.datetime(2017, 6, 30, 0, 0, 1)], '106.120.173.jie': [datetime.datetime(2017, 6, 30, 0, 0, 2)], '107.178.195.aag': [datetime.datetime(2017, 6, 30, 0, 0, 2)]}\n"
     ]
    },
    {
     "ename": "TypeError",
     "evalue": "unsupported operand type(s) for -: 'list' and 'list'",
     "output_type": "error",
     "traceback": [
      "\u001b[1;31m---------------------------------------------------------------------------\u001b[0m",
      "\u001b[1;31mTypeError\u001b[0m                                 Traceback (most recent call last)",
      "\u001b[1;32m<ipython-input-78-877d70e1d148>\u001b[0m in \u001b[0;36m<module>\u001b[1;34m()\u001b[0m\n\u001b[0;32m     34\u001b[0m \u001b[0ma\u001b[0m\u001b[1;33m=\u001b[0m \u001b[0mactive_session\u001b[0m\u001b[1;33m[\u001b[0m\u001b[1;34m'101.81.133.jja'\u001b[0m\u001b[1;33m]\u001b[0m\u001b[1;33m\u001b[0m\u001b[0m\n\u001b[0;32m     35\u001b[0m \u001b[0mb\u001b[0m\u001b[1;33m=\u001b[0m \u001b[0mactive_session\u001b[0m\u001b[1;33m[\u001b[0m\u001b[1;34m'108.91.91.hbc'\u001b[0m\u001b[1;33m]\u001b[0m\u001b[1;33m\u001b[0m\u001b[0m\n\u001b[1;32m---> 36\u001b[1;33m \u001b[0mprint\u001b[0m\u001b[1;33m(\u001b[0m\u001b[0ma\u001b[0m\u001b[1;33m-\u001b[0m\u001b[0mb\u001b[0m\u001b[1;33m)\u001b[0m\u001b[1;33m.\u001b[0m\u001b[0mtotal_seconds\u001b[0m\u001b[1;33m(\u001b[0m\u001b[1;33m)\u001b[0m\u001b[1;33m\u001b[0m\u001b[0m\n\u001b[0m\u001b[0;32m     37\u001b[0m \u001b[1;33m\u001b[0m\u001b[0m\n",
      "\u001b[1;31mTypeError\u001b[0m: unsupported operand type(s) for -: 'list' and 'list'"
     ]
    }
   ],
   "source": [
    "try:\n",
    "    with open('output/sessionization.txt', 'r+') as f:\n",
    "        f.truncate()\n",
    "except FileNotFoundError:\n",
    "    pass\n",
    "\n",
    "log = OrderedDict()\n",
    "active_session = {}\n",
    "first_time = True\n",
    "\n",
    "with open('input/inactivity_period.txt', 'r') as f:\n",
    "    inactivity_period = int(f.read().strip()) \n",
    "\n",
    "    with open('input/log.csv', 'r') as f:\n",
    "        reader = csv.reader(f)\n",
    "        next(reader) # skip header\n",
    "    \n",
    "        for line in reader:\n",
    "            #print('request:', line)\n",
    "            #print(line[1] + ' ' + line[2])\n",
    "            #print('ip',line[0])\n",
    "            ip = line[0]\n",
    "            date_time = line[1] + ' ' + line[2]\n",
    "            time = datetime.datetime.strptime(date_time, \"%Y-%m-%d %H:%M:%S\")\n",
    "            \n",
    "            if ip not in active_session:\n",
    "                log[ip] = [date_time, time, time, 1]\n",
    "                active_session[ip]=[time]\n",
    "                \n",
    "                \n",
    "\n",
    "print(log)\n",
    "print(active_session)\n",
    "a= active_session['101.81.133.jja']\n",
    "b= active_session['108.91.91.hbc']\n",
    "print(a-b).total_seconds()         \n",
    "            "
   ]
  },
  {
   "cell_type": "code",
   "execution_count": null,
   "metadata": {},
   "outputs": [],
   "source": []
  },
  {
   "cell_type": "code",
   "execution_count": null,
   "metadata": {},
   "outputs": [],
   "source": []
  }
 ],
 "metadata": {
  "kernelspec": {
   "display_name": "Python 3",
   "language": "python",
   "name": "python3"
  },
  "language_info": {
   "codemirror_mode": {
    "name": "ipython",
    "version": 3
   },
   "file_extension": ".py",
   "mimetype": "text/x-python",
   "name": "python",
   "nbconvert_exporter": "python",
   "pygments_lexer": "ipython3",
   "version": "3.6.4"
  }
 },
 "nbformat": 4,
 "nbformat_minor": 2
}
